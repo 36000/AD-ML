{
 "cells": [
  {
   "cell_type": "markdown",
   "metadata": {},
   "source": [
    "# Steps to reproduce experiments in :\n",
    "## **Reproducible evaluation of diffusion MRI features forautomatic classification of patients with Alzheimer’s disease**  using diffusion MRI from ADNI dataset"
   ]
  },
  {
   "cell_type": "markdown",
   "metadata": {},
   "source": [
    "## Prealable\n",
    "\n",
    "The original [ADNI datase](http://adni.loni.usc.edu/) data should be downloaded without further touch (Data we used in our paper was downloaded in October 2016).\n",
    "Fix the paths where your data is stored on your computer:"
   ]
  },
  {
   "cell_type": "code",
   "execution_count": null,
   "metadata": {},
   "outputs": [],
   "source": [
    "!export ADNI_PATH=\"~/Aramis/Data/ADNI\""
   ]
  },
  {
   "cell_type": "code",
   "execution_count": null,
   "metadata": {},
   "outputs": [],
   "source": [
    "!export OUT_PATH=\"~/Aramis/Data/OUTPUT\""
   ]
  },
  {
   "cell_type": "markdown",
   "metadata": {},
   "source": [
    "## 1. Convert the original ADNI data into BIDS format"
   ]
  },
  {
   "cell_type": "code",
   "execution_count": null,
   "metadata": {},
   "outputs": [],
   "source": [
    "!clinica convert adni-to-bids $ADNI_PATH/IMAGES $ADNI_PATH/CLINICAL_DATA $OUT_PATH/ADNI/BIDS -m [DWI, T1]"
   ]
  },
  {
   "cell_type": "markdown",
   "metadata": {},
   "source": [
    "Define folders for the nexrt steps:"
   ]
  },
  {
   "cell_type": "code",
   "execution_count": null,
   "metadata": {},
   "outputs": [],
   "source": [
    "import os\n",
    "\n",
    "dwi_bids = os.path.join(os.environ.get('OUT_PATH'), 'ADNI/BIDS/DWI')\n",
    "t1w_bids = os.path.join(os.environ.get('OUT_PATH'), 'ADNI/BIDS/T1')\n",
    "output_dir = os.path.join(os.environ.get('OUT_PATH'), 'TSV')\n",
    "caps_dir = os.path.join(os.environ.get('OUT_PATH'), 'ADNI/CAPS')"
   ]
  },
  {
   "cell_type": "markdown",
   "metadata": {},
   "source": [
    "## 2. Create the subjects lists\n",
    "Choose the subjects available at baseline for diffusion MRI:"
   ]
  },
  {
   "cell_type": "code",
   "execution_count": null,
   "metadata": {},
   "outputs": [],
   "source": [
    "from Code.subjects_lists.subject_lists import create_subjects_lists\n",
    "\n",
    "# for AD\n",
    "create_subjects_lists(dwi_bids, t1w_bids, output_dir, label='AD')\n",
    "# for CN\n",
    "create_subjects_lists(dwi_bids, t1w_bids, output_dir, label='CN')\n",
    "# for MCI\n",
    "create_subjects_lists(dwi_bids, t1w_bids, output_dir, label='MCI')"
   ]
  },
  {
   "cell_type": "markdown",
   "metadata": {},
   "source": [
    "## 3. Create the demographic table information\n",
    "Get demographic information based on the chosen population:"
   ]
  },
  {
   "cell_type": "code",
   "execution_count": null,
   "metadata": {},
   "outputs": [],
   "source": [
    "from Code.subjects_lists.lists_stats_dMRI import statistics_cn_ad_mci_M00\n",
    "\n",
    "statistics_cn_ad_mci_M00(dwi_bids, output_dir)"
   ]
  },
  {
   "cell_type": "markdown",
   "metadata": {},
   "source": [
    "## 4. Run image processing pipelines\n",
    "The fist two pipelines were partly integrated into Clinica software and a postprocesing python script was also developed."
   ]
  },
  {
   "cell_type": "markdown",
   "metadata": {},
   "source": [
    "Running bash script `Code/5-ADNI_preprocessing.sh`"
   ]
  },
  {
   "cell_type": "code",
   "execution_count": null,
   "metadata": {},
   "outputs": [],
   "source": [
    "## for diffusion MRI\n",
    "!clinica run dwi-preprocessing-using-t1 $OUT_PATH/ADNI/BIDS $OUT_PATH/ADNI/CAPS y 0.14 -tsv $OUT_PATH/TSV/subjects_T1_dwi.tsv -wd '/WORKING/DIR' -np 8"
   ]
  },
  {
   "cell_type": "code",
   "execution_count": null,
   "metadata": {},
   "outputs": [],
   "source": [
    "## for T1w MRI\n",
    "!clinica run t1-volume-new-template $OUT_PATH/ADNI/BIDS $OUT_PATH/ADNI/CAPS 'group-ADNIbl' -tsv $OUT_PATH/TSV/subjects_T1_dwi.tsv -wd '/WORKING/DIR' -np 8"
   ]
  },
  {
   "cell_type": "markdown",
   "metadata": {},
   "source": [
    "Running bash script `Code/6-ADNI_processing.sh`"
   ]
  },
  {
   "cell_type": "code",
   "execution_count": null,
   "metadata": {},
   "outputs": [],
   "source": [
    "## for diffusion MRI\n",
    "!clinica run dwi-processing-dti $OUT_PATH/ADNI/CAPS -tsv $OUT_PATH/TSV/subjects_T1_dwi.tsv -wd '/WORKING/DIR' -np 8"
   ]
  },
  {
   "cell_type": "code",
   "execution_count": null,
   "metadata": {},
   "outputs": [],
   "source": [
    "from Code.clinica_ml_dwi.dwi_postprocessing_dti import dwi_postprocessing_dti\n",
    "\n",
    "participant_tsv_file = 'subjects_T1_dwi.tsv'\n",
    "CAPS = caps_dir\n",
    "tsv = os.path.join(output_dir, participant_tsv_file):\n",
    "working_dir = 'WORKING/DIR'\n",
    "tissue_lists = [[1], [2], [1, 2]]\n",
    "mask_threshold = [0.3]\n",
    "smooth = [8]\n",
    "\n",
    "for i in tissue_lists:\n",
    "    for j in smooth:\n",
    "        for k in mask_threshold:\n",
    "            wf = dwi_postprocessing_dti(CAPS, tsv, working_directory=working_dir, \n",
    "                                        mask_tissues=i, mask_threshold=k, smooth=j)\n",
    "            wf.run(plugin='MultiProc', plugin_args={'n_procs': 8})"
   ]
  },
  {
   "cell_type": "markdown",
   "metadata": {},
   "source": [
    "## 5. Run the classification tasks"
   ]
  },
  {
   "cell_type": "markdown",
   "metadata": {},
   "source": [
    "Results from the papers are as follows:\n",
    "\n",
    "### Classification results of original data on T1-weighted and diffusion MRI:"
   ]
  },
  {
   "cell_type": "code",
   "execution_count": null,
   "metadata": {},
   "outputs": [],
   "source": [
    "from clinica_ml_dwi.mlworkflow_dwi_utils import run_voxel_based_classification\n",
    "\n",
    "# ########################\n",
    "# ### Original classification\n",
    "# ########################\n",
    "\n",
    "caps_directory= 'PATH/TO/CAPS'\n",
    "output_dir = 'PATH/TO/CLASSIFICATION_OUTPUT'\n",
    "n_threads = 72\n",
    "n_iterations = 250\n",
    "test_size = 0.2\n",
    "grid_search_folds = 10\n",
    "\n",
    "# ########################\n",
    "# ### Balanced classification\n",
    "# ########################\n",
    "balanced_down_sample = True\n",
    "\n",
    "#####  CN vs pMCI\n",
    "task='CN_vs_pMCI_VB'\n",
    "diagnoses_tsv = 'PATH/TO/DIAGONISIS_TSV'\n",
    "subjects_visits_tsv = 'PATH/TO/SUBJECTS_VISITS_TSV'\n",
    "run_voxel_based_classification(caps_directory, diagnoses_tsv, \n",
    "                               subjects_visits_tsv, output_dir,\n",
    "                               task, n_threads, n_iterations, \n",
    "                               test_size, grid_search_folds, \n",
    "                               balanced_down_sample=balanced_down_sample)\n",
    "\n",
    "######  CN vs MCI\n",
    "task='CN_vs_MCI_VB'\n",
    "diagnoses_tsv = 'PATH/TO/DIAGONISIS_TSV'\n",
    "subjects_visits_tsv = 'PATH/TO/SUBJECTS_VISITS_TSV'\n",
    "run_voxel_based_classification(caps_directory, diagnoses_tsv, \n",
    "                               subjects_visits_tsv, output_dir,\n",
    "                               task, n_threads, n_iterations, \n",
    "                               test_size, grid_search_folds, \n",
    "                               balanced_down_sample=balanced_down_sample)\n",
    "\n",
    "######  sMCI vs pMCI\n",
    "task='sMCI_vs_pMCI_VB'\n",
    "diagnoses_tsv = 'PATH/TO/DIAGONISIS_TSV'\n",
    "subjects_visits_tsv = 'PATH/TO/SUBJECTS_VISITS_TSV'\n",
    "run_voxel_based_classification(caps_directory, diagnoses_tsv, \n",
    "                               subjects_visits_tsv, output_dir,\n",
    "                               task, n_threads, n_iterations, \n",
    "                               test_size, grid_search_folds, \n",
    "                               balanced_down_sample=balanced_down_sample)"
   ]
  }
 ],
 "metadata": {
  "kernelspec": {
   "display_name": "Python 2",
   "language": "python",
   "name": "python2"
  },
  "language_info": {
   "codemirror_mode": {
    "name": "ipython",
    "version": 2
   },
   "file_extension": ".py",
   "mimetype": "text/x-python",
   "name": "python",
   "nbconvert_exporter": "python",
   "pygments_lexer": "ipython2",
   "version": "2.7.15"
  }
 },
 "nbformat": 4,
 "nbformat_minor": 2
}
